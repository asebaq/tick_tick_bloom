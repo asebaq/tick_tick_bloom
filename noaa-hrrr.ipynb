{
 "cells": [
  {
   "cell_type": "markdown",
   "id": "59cbbe33",
   "metadata": {},
   "source": [
    "\n",
    "## Accessing NOAA HRRR data on Azure\n",
    "\n",
    "The NOAA [HRRR](https://www.nco.ncep.noaa.gov/pmb/products/hrrr/) is a real-time 3km resolution, hourly updated, cloud-resolving, convection-allowing atmospheric model, initialized by 3km grids with 3km radar assimilation. \n",
    "\n",
    "This notebook provides an example of accessing HRRR data from blob storage on Azure, including (1) finding the data file corresponding to a date and time, (2) retrieving a portion of that file from blob storage which includes the surface temperature variable, (3) opening the file using the `xarray` library, and (4) rendering an image of the forecast.\n",
    "\n",
    "This dataset is stored in the East US Azure region, so this notebook will run most efficiently on Azure compute located in the same region. If you are using this data for environmental science applications, consider applying for an AI for Earth grant to support your compute requirements.\n",
    "\n",
    "This dataset is documented at <http://aka.ms/ai4edata-hrrr>."
   ]
  },
  {
   "cell_type": "markdown",
   "id": "fd36fcca",
   "metadata": {},
   "source": [
    "### Set up the environment\n",
    "\n",
    "We're using `xarray` with the `cfgrib` engine to open the GRIB2 data into an xarray Dataset. `cfgrib` has some binary dependencies so it's easiest to [install with Conda](https://github.com/ecmwf/cfgrib#installation)."
   ]
  },
  {
   "cell_type": "code",
   "execution_count": 1,
   "id": "30fa700d",
   "metadata": {},
   "outputs": [],
   "source": [
    "import io\n",
    "from datetime import date, timedelta\n",
    "\n",
    "import xarray as xr\n",
    "import requests\n",
    "import cartopy.crs as ccrs\n",
    "import cartopy.feature as cfeature\n",
    "import matplotlib.pyplot as plt\n",
    "import cmocean\n",
    "\n",
    "# Not used directly, but used via xarray\n",
    "import cfgrib"
   ]
  },
  {
   "cell_type": "markdown",
   "id": "474de72d",
   "metadata": {},
   "source": [
    "### Assemble the URL for a single forecast model run\n",
    "\n",
    "HRRR model data are in files named by date and sector (either CONUS or Alaska). We'll load up yesterday's 2D surface levels model forecast for CONUS run from 12pm UTC. The URL will be assembled based on the path parameters [outlined in our documentation](https://github.com/microsoft/AIforEarthDataSets/blob/main/data/noaa-hrrr.md#storage-resources). "
   ]
  },
  {
   "cell_type": "code",
   "execution_count": 7,
   "id": "fddf7aad",
   "metadata": {},
   "outputs": [
    {
     "name": "stdout",
     "output_type": "stream",
     "text": [
      "2021-05-13\n",
      "https://noaahrrr.blob.core.windows.net/hrrr/hrrr.20210513/conus/hrrr.t12z.wrfsfcf01.grib2\n"
     ]
    }
   ],
   "source": [
    "# Constants for creating the full URL\n",
    "blob_container = \"https://noaahrrr.blob.core.windows.net/hrrr\"\n",
    "sector = \"conus\"\n",
    "yesterday = date.today() - timedelta(days=1)\n",
    "yesterday = date(2014, 12, 1)\n",
    "yesterday = date(2021, 5, 13)\n",
    "print(yesterday)\n",
    "cycle = 12          # noon\n",
    "forecast_hour = 1   # offset from cycle time\n",
    "product = \"wrfsfcf\" # 2D surface levels\n",
    "\n",
    "# Put it all together\n",
    "file_path = f\"hrrr.t{cycle:02}z.{product}{forecast_hour:02}.grib2\"\n",
    "url = f\"{blob_container}/hrrr.{yesterday:%Y%m%d}/{sector}/{file_path}\"\n",
    "\n",
    "print(url)"
   ]
  },
  {
   "cell_type": "markdown",
   "id": "991304b3",
   "metadata": {},
   "source": [
    "### Determine the file-subset of our variable\n",
    "\n",
    "The GRIB2 file format stacks binary representations of 2D arrays under a top-level header. This means that instead of downloading and opening the whole file of 170+ variables (150MB+), we can read from a byte offset of just a single variable (or several). The NOAA HRRR data comes with a sidecar index file that specifies start-byte positions for each variable. These files have the same name as the HRRR file, suffixed with `.idx`. \n",
    "\n",
    "Let's use this to calculate the offset of the variable we want, before making the data request."
   ]
  },
  {
   "cell_type": "code",
   "execution_count": 8,
   "id": "0b7d639a",
   "metadata": {},
   "outputs": [
    {
     "name": "stdout",
     "output_type": "stream",
     "text": [
      "1:0:d=2021051312:REFC:entire atmosphere:1 hour fcst:\n",
      "2:268018:d=2021051312:RETOP:cloud top:1 hour fcst:\n",
      "3:332124:d=2021051312:var discipline=0 center=7 local_table=1 parmcat=16 parm=201:entire atmosphere:1 hour fcst:\n",
      "4:647930:d=2021051312:VIL:entire atmosphere:1 hour fcst:\n",
      "5:827629:d=2021051312:VIS:surface:1 hour fcst:\n",
      "6:2299330:d=2021051312:REFD:1000 m above ground:1 hour fcst:\n",
      "7:2394442:d=2021051312:REFD:4000 m above ground:1 hour fcst:\n",
      "8:2461417:d=2021051312:REFD:263 K level:1 hour fcst:\n",
      "9:2526225:d=2021051312:GUST:surface:1 hour fcst:\n",
      "10:3730138:d=2021051312:UGRD:250 mb:1 hour fcst:\n"
     ]
    }
   ],
   "source": [
    "# Fetch the idx file by appending the .idx file extension to our already formatted URL\n",
    "r = requests.get(f\"{url}.idx\")\n",
    "idx = r.text.splitlines()\n",
    "\n",
    "# Take a peek at the content of the index\n",
    "print(*idx[0:10], sep=\"\\n\")"
   ]
  },
  {
   "cell_type": "code",
   "execution_count": 9,
   "id": "8980c62f",
   "metadata": {},
   "outputs": [
    {
     "name": "stdout",
     "output_type": "stream",
     "text": [
      "Surface temp line: ['64', '38448330', 'd=2021051312', 'TMP', 'surface', '1 hour fcst', '']\n",
      "Byte range: 38448330-39758083\n"
     ]
    }
   ],
   "source": [
    "# You can see it has a 1-indexed base line number, staring byte position, date, variable, atmosphere level,\n",
    "# and forecast description. The lines are colon-delimited. \n",
    "\n",
    "# Let's grab surface temperature `TMP:surface`.\n",
    "sfc_temp_idx = [l for l in idx if \":TMP:surface\" in l][0].split(\":\")\n",
    "print(\"Surface temp line:\", sfc_temp_idx)\n",
    "\n",
    "# Pluck the byte offset from this line, plus the beginning offset of the next line\n",
    "line_num = int(sfc_temp_idx[0])\n",
    "range_start = sfc_temp_idx[1]\n",
    "\n",
    "# The line number values are 1-indexed, so we don't need to increment it to get the next list index,\n",
    "# but check we're not already reading the last line\n",
    "next_line = idx[line_num].split(':') if line_num < len(idx) else None\n",
    "\n",
    "# Pluck the start of the next byte offset, or nothing if we were on the last line\n",
    "range_end = next_line[1] if next_line else None\n",
    "\n",
    "print(f\"Byte range: {range_start}-{range_end}\")"
   ]
  },
  {
   "cell_type": "markdown",
   "id": "5acc5318",
   "metadata": {},
   "source": [
    "### Request the surface temperature file-subset\n",
    "\n",
    "Now that we have the byte range of the single variable we want, we can make a traditional GET request to the Azure Blob Storage container, which supports HTTP range headers. We'll have to save this file to disk since [cfgrib does not currently support reading file-like objects](https://github.com/ecmwf/cfgrib/issues/99)."
   ]
  },
  {
   "cell_type": "code",
   "execution_count": 10,
   "id": "bb3f86d8",
   "metadata": {},
   "outputs": [],
   "source": [
    "import tempfile\n",
    "file = tempfile.NamedTemporaryFile(prefix=\"tmp_\", delete=False)\n",
    "\n",
    "headers = {\"Range\": f\"bytes={range_start}-{range_end}\"}\n",
    "resp = requests.get(url, headers=headers, stream=True)\n",
    "\n",
    "with file as f:\n",
    "    f.write(resp.content)"
   ]
  },
  {
   "cell_type": "markdown",
   "id": "1f5ef6e3",
   "metadata": {},
   "source": [
    "### Open the GRIB2 file as an xarray dataset\n",
    "\n",
    "The downloaded file subset is a valid GRIB2 file. Open it with the `cfgrib` engine for `xarray` and we can do traditional `xarray` operations. Setting `indexpath` here to an empty string tells `cfgrib` to open the file without an associated `.idx` file (which doesn't exist, since we just created this subset file)."
   ]
  },
  {
   "cell_type": "code",
   "execution_count": 11,
   "id": "66fb2fe2",
   "metadata": {},
   "outputs": [],
   "source": [
    "ds = xr.open_dataset(file.name, engine='cfgrib', \n",
    "                     backend_kwargs={'indexpath':''})"
   ]
  },
  {
   "cell_type": "markdown",
   "id": "a2c78d59",
   "metadata": {},
   "source": [
    "### Check the dataset value\n",
    "\n",
    "Let's do a quick check of the distribution of temperature values across the country to make sure things look right."
   ]
  },
  {
   "cell_type": "code",
   "execution_count": 12,
   "id": "0df072e2",
   "metadata": {},
   "outputs": [
    {
     "data": {
      "text/plain": "<Figure size 640x480 with 1 Axes>",
      "image/png": "[encoded data removed]"
     },
     "metadata": {},
     "output_type": "display_data"
    }
   ],
   "source": [
    "ds.t.plot.hist(edgecolor=\"white\")\n",
    "plt.show()"
   ]
  },
  {
   "cell_type": "markdown",
   "id": "34a81981",
   "metadata": {},
   "source": [
    "### Plot an image of the temperature forecast\n",
    "\n",
    "First, let's create a Cartopy CRS (coordinate reference system) specification from the attributes in the dataset. The HRRR data comes in the Lambert conformal projection. See [this example](https://github.com/blaylockbk/HRRR_archive_download/blob/4105f21ee01ad5a915d9545008fad94cf8af8213/herbie/accessors.py#L69-L78) for more information."
   ]
  },
  {
   "cell_type": "code",
   "execution_count": 13,
   "id": "ec5b8d10",
   "metadata": {},
   "outputs": [],
   "source": [
    "attrs = ds.t.attrs\n",
    "\n",
    "assert attrs['GRIB_gridType'] == 'lambert'\n",
    "\n",
    "# Define the CRS with attributes from the temperate DataArray\n",
    "prj_kwargs = dict(\n",
    "    globe=ccrs.Globe(ellipse='sphere'),\n",
    "    central_latitude=attrs['GRIB_LaDInDegrees'],\n",
    "    central_longitude=attrs['GRIB_LoVInDegrees'],\n",
    "    standard_parallels=(attrs['GRIB_Latin1InDegrees'],\\\n",
    "                        attrs['GRIB_Latin2InDegrees'])\n",
    ")\n",
    "\n",
    "prj = ccrs.LambertConformal(**prj_kwargs)"
   ]
  },
  {
   "cell_type": "markdown",
   "id": "cd45a08e",
   "metadata": {},
   "source": [
    "Now we can plot the entire CONUS with some overlaid context from `cartopy` and a nice thermal colormap from `cmocean`."
   ]
  },
  {
   "cell_type": "code",
   "execution_count": null,
   "id": "7b9d9215",
   "metadata": {
    "pycharm": {
     "is_executing": true
    }
   },
   "outputs": [],
   "source": [
    "# Ignore some matplotlib deprecation warnings\n",
    "import warnings; warnings.simplefilter(\"ignore\")\n",
    "\n",
    "fig = plt.figure(figsize=(15,8))\n",
    "ax = plt.axes(projection=prj)\n",
    "plt_kwargs = dict(x='longitude', y='latitude', cmap=cmocean.cm.thermal, \n",
    "                  transform=ccrs.PlateCarree())\n",
    "\n",
    "ds.t.plot(**plt_kwargs, ax=ax)\n",
    "ax.coastlines(linewidth=0.5)\n",
    "ax.add_feature(cfeature.STATES.with_scale('50m'), linewidth=0.5)\n",
    "plt.show()"
   ]
  },
  {
   "cell_type": "markdown",
   "id": "8d0da7b7",
   "metadata": {},
   "source": [
    "Lastly, let's convert Kelvin to Centigrade, and zoom in on the Southwest where there is the most temperature variation."
   ]
  },
  {
   "cell_type": "code",
   "execution_count": null,
   "id": "e040869e",
   "metadata": {
    "pycharm": {
     "is_executing": true
    }
   },
   "outputs": [],
   "source": [
    "# Increase the dpi a bit for some crisper text\n",
    "fig = plt.figure(figsize=(15,8), dpi=100)\n",
    "ax = plt.axes(projection=prj)\n",
    "\n",
    "# K to C\n",
    "with xr.set_options(keep_attrs=True):\n",
    "    t_c = ds.t - 273.15\n",
    "    t_c.attrs[\"units\"] = \"C\"\n",
    "\n",
    "# Add some context and zoom to the SW\n",
    "ax.coastlines(linewidth=0.5)\n",
    "ax.add_feature(cfeature.STATES.with_scale('50m'), linewidth=0.5)\n",
    "ax.set_extent([-121, -108, 33, 39], crs=ccrs.PlateCarree())\n",
    "\n",
    "t_c.plot(**plt_kwargs, ax=ax)\n",
    "d = ds.coords['valid_time'].values\n",
    "\n",
    "plt.title(f\"HRRR Surface Temperatures Valid {yesterday} {cycle + forecast_hour:02}:00 UTC\")\n",
    "plt.show()"
   ]
  },
  {
   "cell_type": "markdown",
   "id": "c142489c",
   "metadata": {},
   "source": [
    "### Additional resources\n",
    "\n",
    "Check out the [HRRR Archive Download](https://github.com/blaylockbk/HRRR_archive_download) repo for a great collection of utility functions and more documentation about accessing and using this dataset."
   ]
  },
  {
   "cell_type": "code",
   "execution_count": null,
   "outputs": [],
   "source": [],
   "metadata": {
    "collapsed": false,
    "pycharm": {
     "is_executing": true
    }
   }
  },
  {
   "cell_type": "code",
   "execution_count": null,
   "outputs": [],
   "source": [],
   "metadata": {
    "collapsed": false
   }
  }
 ],
 "metadata": {
  "kernelspec": {
   "display_name": "Python 3",
   "language": "python",
   "name": "python3"
  },
  "language_info": {
   "codemirror_mode": {
    "name": "ipython",
    "version": 3
   },
   "file_extension": ".py",
   "mimetype": "text/x-python",
   "name": "python",
   "nbconvert_exporter": "python",
   "pygments_lexer": "ipython3",
   "version": "3.8.8"
  }
 },
 "nbformat": 4,
 "nbformat_minor": 5
}
